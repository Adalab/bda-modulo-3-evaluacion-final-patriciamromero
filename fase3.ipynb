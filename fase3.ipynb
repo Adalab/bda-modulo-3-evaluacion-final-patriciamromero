{
 "cells": [
  {
   "cell_type": "code",
   "execution_count": 39,
   "metadata": {},
   "outputs": [],
   "source": [
    "# Import libraries for data processing\n",
    "# -----------------------------------------------------------------------\n",
    "import pandas as pd  # Pandas for data manipulation and analysis in Python.\n",
    "\n",
    "# Optional libraries (can be removed if not used):\n",
    "# -----------------------------------------------------------------------\n",
    "# Import libraries for web scraping and data manipulation\n",
    "# from bs4 import BeautifulSoup\n",
    "# import requests\n",
    "\n",
    "# Import libraries for web browser automation with Selenium\n",
    "# from selenium import webdriver\n",
    "# from webdriver_manager.chrome import ChromeDriverManager\n",
    "\n",
    "# ChromeDriverManager manages the installation of the Chrome driver\n",
    "\n",
    "# from selenium.webdriver.common.keys import Keys  # Keys is useful for simulating keyboard events in Selenium.\n",
    "# from selenium.webdriver.support.ui import Select  # Select is used to interact with <select> elements on web pages.\n",
    "\n",
    "# Import libraries for pausing execution\n",
    "# -----------------------------------------------------------------------\n",
    "# from time import sleep  # Sleep is used to pause the program execution for a number of seconds.\n",
    "\n",
    "# Configurations\n",
    "# -----------------------------------------------------------------------\n",
    "pd.set_option('display.max_columns', None)  # Set a Pandas option to show all columns of a DataFrame.\n",
    "\n",
    "import warnings\n",
    "warnings.filterwarnings(\"ignore\")\n",
    "warnings.simplefilter(action='ignore', category=FutureWarning)\n",
    "\n",
    "\n",
    "pd.options.display.max_columns = None\n",
    "\n",
    "pd.set_option('display.float_format', '{:.2f}'.format)\n",
    "\n",
    "# Tratamiento de datos\n",
    "# -----------------------------------------------------------------------\n",
    "import pandas as pd\n",
    "import numpy as np\n",
    "\n",
    "# Imputación de nulos usando métodos avanzados estadísticos\n",
    "# -----------------------------------------------------------------------\n",
    "from sklearn.impute import SimpleImputer\n",
    "from sklearn.experimental import enable_iterative_imputer\n",
    "from sklearn.impute import IterativeImputer\n",
    "from sklearn.impute import KNNImputer\n",
    "\n",
    "# Librerías de visualización\n",
    "# -----------------------------------------------------------------------\n",
    "import seaborn as sns\n",
    "import matplotlib.pyplot as plt\n",
    "import scipy.stats as stats\n",
    "\n",
    "from scipy.stats import shapiro\n",
    "from scipy.stats import chi2_contingency\n",
    "from scipy.stats import ttest_ind\n",
    "\n",
    "\n",
    "\n",
    "\n"
   ]
  },
  {
   "cell_type": "code",
   "execution_count": 40,
   "metadata": {},
   "outputs": [],
   "source": [
    "data = pd.read_csv(\"files/data_merged.csv\")"
   ]
  },
  {
   "cell_type": "code",
   "execution_count": 41,
   "metadata": {},
   "outputs": [],
   "source": [
    "#data_filtered = data.groupby(\"Flights Booked\")[\"Education\"].sum()"
   ]
  },
  {
   "cell_type": "code",
   "execution_count": 42,
   "metadata": {},
   "outputs": [
    {
     "name": "stdout",
     "output_type": "stream",
     "text": [
      "Los principales estadísticos de la columna 'Flights Booked' para el BACHELOR son: \n"
     ]
    },
    {
     "data": {
      "text/plain": [
       "count   252567.00\n",
       "mean         4.11\n",
       "std          5.22\n",
       "min          0.00\n",
       "25%          0.00\n",
       "50%          1.00\n",
       "75%          8.00\n",
       "max         21.00\n",
       "Name: Flights Booked, dtype: float64"
      ]
     },
     "metadata": {},
     "output_type": "display_data"
    },
    {
     "name": "stdout",
     "output_type": "stream",
     "text": [
      "Los principales estadísticos de la columna 'Flights Booked' para el COLLEGE son: \n"
     ]
    },
    {
     "data": {
      "text/plain": [
       "count   102260.00\n",
       "mean         4.17\n",
       "std          5.25\n",
       "min          0.00\n",
       "25%          0.00\n",
       "50%          1.00\n",
       "75%          8.00\n",
       "max         21.00\n",
       "Name: Flights Booked, dtype: float64"
      ]
     },
     "metadata": {},
     "output_type": "display_data"
    },
    {
     "name": "stdout",
     "output_type": "stream",
     "text": [
      "Los principales estadísticos de la columna 'Flights Booked' para el MASTER son: \n"
     ]
    },
    {
     "data": {
      "text/plain": [
       "count   12287.00\n",
       "mean        4.20\n",
       "std         5.21\n",
       "min         0.00\n",
       "25%         0.00\n",
       "50%         1.00\n",
       "75%         8.00\n",
       "max        21.00\n",
       "Name: Flights Booked, dtype: float64"
      ]
     },
     "metadata": {},
     "output_type": "display_data"
    },
    {
     "name": "stdout",
     "output_type": "stream",
     "text": [
      "Los principales estadísticos de la columna 'Flights Booked' para el HIGH SCHOOL OR BELOW son: \n"
     ]
    },
    {
     "data": {
      "text/plain": [
       "count   18915.00\n",
       "mean        4.18\n",
       "std         5.24\n",
       "min         0.00\n",
       "25%         0.00\n",
       "50%         1.00\n",
       "75%         8.00\n",
       "max        21.00\n",
       "Name: Flights Booked, dtype: float64"
      ]
     },
     "metadata": {},
     "output_type": "display_data"
    },
    {
     "name": "stdout",
     "output_type": "stream",
     "text": [
      "Los principales estadísticos de la columna 'Flights Booked' para el DOCTOR son: \n"
     ]
    },
    {
     "data": {
      "text/plain": [
       "count   17731.00\n",
       "mean        4.18\n",
       "std         5.26\n",
       "min         0.00\n",
       "25%         0.00\n",
       "50%         1.00\n",
       "75%         8.00\n",
       "max        21.00\n",
       "Name: Flights Booked, dtype: float64"
      ]
     },
     "metadata": {},
     "output_type": "display_data"
    }
   ],
   "source": [
    "#revisar \n",
    "for categoria in data[\"Education\"].unique():\n",
    "        \n",
    "        dataframe_filtrado = data[data[\"Education\"] == categoria]\n",
    "        print(f\"Los principales estadísticos de la columna 'Flights Booked' para el {categoria.upper()} son: \")\n",
    "        display(dataframe_filtrado[\"Flights Booked\"].describe().T)"
   ]
  },
  {
   "cell_type": "code",
   "execution_count": null,
   "metadata": {},
   "outputs": [],
   "source": []
  },
  {
   "cell_type": "code",
   "execution_count": 43,
   "metadata": {},
   "outputs": [],
   "source": [
    "\n",
    "sup_education = [\"Doctor\", \"Master\"]\n",
    "low_education = [\"High School or Below\", \"Bachelor\", \"College\"]\n"
   ]
  },
  {
   "cell_type": "code",
   "execution_count": 44,
   "metadata": {},
   "outputs": [],
   "source": [
    "data[\"TestGroup\"] = data['Education'].apply(lambda x : 'Sup Education' if x in sup_education else 'Low Education')"
   ]
  },
  {
   "cell_type": "code",
   "execution_count": 45,
   "metadata": {},
   "outputs": [
    {
     "data": {
      "text/plain": [
       "array(['Low Education', 'Sup Education'], dtype=object)"
      ]
     },
     "execution_count": 45,
     "metadata": {},
     "output_type": "execute_result"
    }
   ],
   "source": [
    "data[\"TestGroup\"].unique()"
   ]
  },
  {
   "cell_type": "code",
   "execution_count": 46,
   "metadata": {},
   "outputs": [
    {
     "data": {
      "text/plain": [
       "21"
      ]
     },
     "execution_count": 46,
     "metadata": {},
     "output_type": "execute_result"
    }
   ],
   "source": [
    "data['Flights Booked'].max()"
   ]
  },
  {
   "cell_type": "code",
   "execution_count": 47,
   "metadata": {},
   "outputs": [],
   "source": [
    "def classify_bookings(num_bookings):\n",
    "  \"\"\"\n",
    "  This function classifies the number of flight bookings into categories.\n",
    "\n",
    "  Args:\n",
    "      num_bookings (int): The number of flight bookings for a client.\n",
    "\n",
    "  Returns:\n",
    "      str: The category of the number of bookings.\n",
    "  \"\"\"\n",
    "  if num_bookings <= 7:\n",
    "    return \"Low Flyer\"\n",
    "  else:\n",
    "    return \"High Flyer\"    "
   ]
  },
  {
   "cell_type": "code",
   "execution_count": 48,
   "metadata": {},
   "outputs": [],
   "source": [
    "data[\"Variable\"] = data['Flights Booked'].apply(classify_bookings)"
   ]
  },
  {
   "cell_type": "code",
   "execution_count": 49,
   "metadata": {},
   "outputs": [],
   "source": [
    "table = pd.crosstab(data['TestGroup'], data['Variable']) "
   ]
  },
  {
   "cell_type": "code",
   "execution_count": 50,
   "metadata": {},
   "outputs": [
    {
     "data": {
      "text/html": [
       "<div>\n",
       "<style scoped>\n",
       "    .dataframe tbody tr th:only-of-type {\n",
       "        vertical-align: middle;\n",
       "    }\n",
       "\n",
       "    .dataframe tbody tr th {\n",
       "        vertical-align: top;\n",
       "    }\n",
       "\n",
       "    .dataframe thead th {\n",
       "        text-align: right;\n",
       "    }\n",
       "</style>\n",
       "<table border=\"1\" class=\"dataframe\">\n",
       "  <thead>\n",
       "    <tr style=\"text-align: right;\">\n",
       "      <th>Variable</th>\n",
       "      <th>High Flyer</th>\n",
       "      <th>Low Flyer</th>\n",
       "    </tr>\n",
       "    <tr>\n",
       "      <th>TestGroup</th>\n",
       "      <th></th>\n",
       "      <th></th>\n",
       "    </tr>\n",
       "  </thead>\n",
       "  <tbody>\n",
       "    <tr>\n",
       "      <th>Low Education</th>\n",
       "      <td>98752</td>\n",
       "      <td>274990</td>\n",
       "    </tr>\n",
       "    <tr>\n",
       "      <th>Sup Education</th>\n",
       "      <td>8031</td>\n",
       "      <td>21987</td>\n",
       "    </tr>\n",
       "  </tbody>\n",
       "</table>\n",
       "</div>"
      ],
      "text/plain": [
       "Variable       High Flyer  Low Flyer\n",
       "TestGroup                           \n",
       "Low Education       98752     274990\n",
       "Sup Education        8031      21987"
      ]
     },
     "execution_count": 50,
     "metadata": {},
     "output_type": "execute_result"
    }
   ],
   "source": [
    "table"
   ]
  },
  {
   "cell_type": "code",
   "execution_count": 51,
   "metadata": {},
   "outputs": [
    {
     "data": {
      "text/html": [
       "<div>\n",
       "<style scoped>\n",
       "    .dataframe tbody tr th:only-of-type {\n",
       "        vertical-align: middle;\n",
       "    }\n",
       "\n",
       "    .dataframe tbody tr th {\n",
       "        vertical-align: top;\n",
       "    }\n",
       "\n",
       "    .dataframe thead th {\n",
       "        text-align: right;\n",
       "    }\n",
       "</style>\n",
       "<table border=\"1\" class=\"dataframe\">\n",
       "  <thead>\n",
       "    <tr style=\"text-align: right;\">\n",
       "      <th>Variable</th>\n",
       "      <th>High Flyer</th>\n",
       "      <th>Low Flyer</th>\n",
       "      <th>High Flyer %</th>\n",
       "      <th>Low Flyer %</th>\n",
       "    </tr>\n",
       "    <tr>\n",
       "      <th>TestGroup</th>\n",
       "      <th></th>\n",
       "      <th></th>\n",
       "      <th></th>\n",
       "      <th></th>\n",
       "    </tr>\n",
       "  </thead>\n",
       "  <tbody>\n",
       "    <tr>\n",
       "      <th>Low Education</th>\n",
       "      <td>98752</td>\n",
       "      <td>274990</td>\n",
       "      <td>26.42</td>\n",
       "      <td>73.58</td>\n",
       "    </tr>\n",
       "    <tr>\n",
       "      <th>Sup Education</th>\n",
       "      <td>8031</td>\n",
       "      <td>21987</td>\n",
       "      <td>26.75</td>\n",
       "      <td>73.25</td>\n",
       "    </tr>\n",
       "  </tbody>\n",
       "</table>\n",
       "</div>"
      ],
      "text/plain": [
       "Variable       High Flyer  Low Flyer  High Flyer %  Low Flyer %\n",
       "TestGroup                                                      \n",
       "Low Education       98752     274990         26.42        73.58\n",
       "Sup Education        8031      21987         26.75        73.25"
      ]
     },
     "execution_count": 51,
     "metadata": {},
     "output_type": "execute_result"
    }
   ],
   "source": [
    "# Calcular el porcentaje para 'High Flyer' en cada fila\n",
    "table['High Flyer %'] = table['High Flyer'] / (table['High Flyer'] + table['Low Flyer']) * 100\n",
    "\n",
    "# Usar los valores originales de 'Low Flyer' para calcular el porcentaje en cada fila\n",
    "table['Low Flyer %'] = table['Low Flyer'] / (table['High Flyer'] + table['Low Flyer']) * 100\n",
    "\n",
    "table"
   ]
  },
  {
   "cell_type": "markdown",
   "metadata": {},
   "source": [
    "Establecemos las hipótesis:\n",
    "- H0 : No existe una relación entre el nivel de estudios general y la frecuencia de viajes\n",
    "- H1: Existe una relación entre el nivel de estudios y la frecuencia de viajes"
   ]
  },
  {
   "cell_type": "code",
   "execution_count": 55,
   "metadata": {},
   "outputs": [
    {
     "data": {
      "image/png": "[encoded data removed]",
      "text/plain": [
       "<Figure size 1440x360 with 2 Axes>"
      ]
     },
     "metadata": {
      "needs_background": "light"
     },
     "output_type": "display_data"
    }
   ],
   "source": [
    "# Cambiar nombres de variables\n",
    "\n",
    "# Seleccionar paleta de colores\n",
    "palette = \"PRGn\"\n",
    "\n",
    "# Crear la figura y los subplots\n",
    "fig, axes = plt.subplots(nrows=1, ncols=2, figsize=(20, 5))\n",
    "\n",
    "# Gráfico de \"Low Flyer\"\n",
    "sns.barplot(x=table.index, y=\"Low Flyer %\", data=table, palette=palette, ax=axes[0])\n",
    "\n",
    "# Gráfico de \"High Flyer\"\n",
    "sns.barplot(x=table.index, y=\"High Flyer %\", data=table, palette=palette, ax=axes[1])\n",
    "\n",
    "# Añadir puntos con valores numéricos\n",
    "#sns.pointplot(x=table.index, y=\"Low Flyer %\", data=table, color='black', ax=axes[0])\n",
    "#sns.pointplot(x=table.index, y=\"High Flyer %\", data=table, color='black', ax=axes[1])\n",
    "\n",
    "# Título principal y etiquetas\n",
    "fig.suptitle(\"Rotación según Satisfacción General\")\n",
    "axes[0].set_title(\"Empleados que se quedaron\")\n",
    "axes[1].set_title(\"Empleados que se marcharon\")\n",
    "axes[0].set_xlabel(\"Grupo\")\n",
    "axes[0].set_ylabel(\"% de Empleados\")\n",
    "axes[1].set_xlabel(\"Grupo\")\n",
    "\n",
    "# Mostrar la figura\n",
    "plt.show()\n"
   ]
  },
  {
   "cell_type": "code",
   "execution_count": 58,
   "metadata": {},
   "outputs": [
    {
     "name": "stdout",
     "output_type": "stream",
     "text": [
      "Con un p_value de 8.652281702838884e-114 hay una diferencia significativa\n"
     ]
    }
   ],
   "source": [
    "# Realizar la prueba de proporciones\n",
    "chi2, p_value, _, _ = chi2_contingency(table)\n",
    "\n",
    "# Imprimir el resultado de la prueba\n",
    "alpha = 0.05\n",
    "if p_value < alpha:\n",
    "    print(f\"Con un p_value de {p_value} hay una diferencia significativa\")\n",
    "else:\n",
    "    print(f\"Con un p_value de {p_value} no hay una diferencia significativa\")"
   ]
  }
 ],
 "metadata": {
  "kernelspec": {
   "display_name": "base",
   "language": "python",
   "name": "python3"
  },
  "language_info": {
   "codemirror_mode": {
    "name": "ipython",
    "version": 3
   },
   "file_extension": ".py",
   "mimetype": "text/x-python",
   "name": "python",
   "nbconvert_exporter": "python",
   "pygments_lexer": "ipython3",
   "version": "3.9.7"
  }
 },
 "nbformat": 4,
 "nbformat_minor": 2
}
